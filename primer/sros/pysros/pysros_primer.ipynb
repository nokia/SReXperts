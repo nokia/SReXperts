{
 "cells": [
  {
   "cell_type": "code",
   "execution_count": null,
   "metadata": {
    "tags": [
     "parameters"
    ]
   },
   "outputs": [],
   "source": [
    "# Copyright 2024 Nokia\n",
    "# Licensed under the BSD 3-Clause License.\n",
    "# SPDX-License-Identifier: BSD-3-Clause\n",
    "\n",
    "# Tested against SR OS 23.7.R1\n",
    "\n",
    "import os\n",
    "if os.environ.get(\"DEMO_PORT\"):\n",
    "    port = int(os.environ.get(\"DEMO_PORT\"))\n",
    "else:\n",
    "    port = 830\n",
    "if os.environ.get(\"DEMO_SSH_PORT\"):\n",
    "    ssh_port = int(os.environ.get(\"DEMO_SSH_PORT\"))\n",
    "else:\n",
    "    ssh_port = 22\n",
    "creds = {\"hostname\": os.environ.get(\"DEMO_HOST\"), \n",
    "         \"port\": port, \"ssh_port\": ssh_port, \n",
    "         \"username\": os.environ.get(\"DEMO_USERNAME\"), \n",
    "         \"password\": os.environ.get(\"DEMO_PASSWORD\")} "
   ]
  },
  {
   "cell_type": "markdown",
   "metadata": {
    "slideshow": {
     "slide_type": "slide"
    },
    "tags": []
   },
   "source": [
    "<img src=\"./_images/Nokia%20logo%20RGB_Bright%20blue.png\" alt=\"NOKIA\" width=\"400\"/>\n",
    "\n",
    "# SReXperts hackathon 2024 primer session"
   ]
  },
  {
   "cell_type": "markdown",
   "metadata": {
    "slideshow": {
     "slide_type": "slide"
    },
    "tags": []
   },
   "source": [
    "## pySROS\n",
    "\n",
    "In 2021 Nokia introduced a Python 3 interpreter onto SR OS.  This Python 3 interpreter was released in conjunction with a Python library called `pySROS`.  \n",
    "\n",
    "The Python library and the interpreter provide a fully model-driven interface to the routers ensuring a consistent interface whether executing on the device or remotely.\n",
    "\n",
    "Over the years more features and functionality have been added to the solution which has found favor throughout our customer base for extending, personalizing and enabling additional functionality with SR OS."
   ]
  },
  {
   "cell_type": "markdown",
   "metadata": {
    "slideshow": {
     "slide_type": "slide"
    }
   },
   "source": [
    "## Installing and importing"
   ]
  },
  {
   "cell_type": "markdown",
   "metadata": {
    "slideshow": {
     "slide_type": "subslide"
    },
    "tags": []
   },
   "source": [
    "### Download and install the library\n",
    "\n",
    "The pySROS library is free to download and use and is automatically installed on all SR OS devices from release 21.7.R1."
   ]
  },
  {
   "cell_type": "code",
   "execution_count": null,
   "metadata": {
    "vscode": {
     "languageId": "shellscript"
    }
   },
   "outputs": [],
   "source": [
    "pip install --upgrade pysros"
   ]
  },
  {
   "cell_type": "markdown",
   "metadata": {
    "slideshow": {
     "slide_type": "subslide"
    }
   },
   "source": [
    "### Import the library into your project\n",
    "\n",
    "The main part of the library is the `connect` method.  This must be imported.  Other methods may be imported as required."
   ]
  },
  {
   "cell_type": "code",
   "execution_count": null,
   "metadata": {
    "vscode": {
     "languageId": "shellscript"
    }
   },
   "outputs": [],
   "source": [
    "from pysros.management import connect"
   ]
  },
  {
   "cell_type": "markdown",
   "metadata": {
    "slideshow": {
     "slide_type": "slide"
    }
   },
   "source": [
    "## Getting connected"
   ]
  },
  {
   "cell_type": "markdown",
   "metadata": {
    "slideshow": {
     "slide_type": "subslide"
    }
   },
   "source": [
    "### Connection object\n",
    "\n",
    "Everything revolves around having a connection to the network device (on or off box). Obtaining a `Connection` object requires a few things if you are executing off-box:\n",
    "\n",
    "* hostname/IP\n",
    "* username\n",
    "* password\n",
    "* NETCONF port number (defaulted to 830)\n",
    "* Whether the SSH hostkey should be verified (good practice in live networks and the default)\n",
    "\n",
    "Each time a connection is made to a node, that node provides a list of YANG module names and versions that it implements.  This list is checked against pySROS' cached schema information (held in ~/.pysros).  If the exact set of modules and versions matches an existing cache entry then that cache is used.  If not the YANG modules are obtained from the router, compiled into a schema and cached. \n",
    "\n",
    "*Obtaining and compiling the YANG modules takes a small amount of time.  Using the cached information is much faster.*"
   ]
  },
  {
   "cell_type": "code",
   "execution_count": null,
   "metadata": {
    "slideshow": {
     "slide_type": "fragment"
    }
   },
   "outputs": [],
   "source": [
    "def get_connection():\n",
    "    connection_object = connect(host=creds['hostname'], \n",
    "                            username=creds['username'], \n",
    "                            password=creds['password'], \n",
    "                            port=creds['port'], \n",
    "                            hostkey_verify=False)\n",
    "    return connection_object\n",
    "\n",
    "connection_object = get_connection()"
   ]
  },
  {
   "cell_type": "markdown",
   "metadata": {},
   "source": [
    "When obtaining a `Connection` object on-box the parameters are not required, if they are provided they are simply ignored.  This means that your applications are portable between off-box and on-box as long as only the supported libraries are used."
   ]
  },
  {
   "cell_type": "markdown",
   "metadata": {},
   "source": [
    "This `Connection` object is what will be used to communicate with the routers model-driven API."
   ]
  },
  {
   "cell_type": "markdown",
   "metadata": {
    "slideshow": {
     "slide_type": "slide"
    }
   },
   "source": [
    "## Navigating and understanding the data"
   ]
  },
  {
   "cell_type": "markdown",
   "metadata": {
    "slideshow": {
     "slide_type": "subslide"
    }
   },
   "source": [
    "### Understanding and using paths to model-driven data structures\n",
    "\n",
    "There are various path formats that you may be familiar with that allow you to reference a specific place in a YANG schema.  One such example is the **xpath** format.\n",
    "\n",
    "The pySROS library requires the ability to provide paths, keys and key values to YANG modelled data elements in order to reference and manipulate them correctly.  The path format used is called the **json-instance-path**.\n",
    "\n",
    "SR OS and pySROS are developed to be accessible to network engineers and developers alike by providing interfaces that simplify work for both.  The **json-instance-path** is one such example.\n",
    "\n",
    "The quickest way to identify data that you would like to obtain is to navigate through the SR OS MD-CLI to the location of the desired data and type the `pwc json-instance-path` command.  This will provide the **json-instance-path** that you can cut and paste straight into Python.\n",
    "\n",
    "For example:\n",
    "\n",
    "```\n",
    "[/]\n",
    "A:admin@pe1# /state system time     \n",
    "\n",
    "[/state system time]\n",
    "A:admin@pe1# info\n",
    "    zone-type system\n",
    "    sntp {\n",
    "        oper-state down\n",
    "    }\n",
    "\n",
    "[/state system time]\n",
    "A:admin@pe1# pwc json-instance-path \n",
    "Present Working Context:\n",
    "/nokia-state:state/system/time\n",
    "```\n",
    "\n",
    "As an example we will cut and paste the resulting path `/nokia-state:state/system/time` directly into a Python call to obtain that data."
   ]
  },
  {
   "cell_type": "code",
   "execution_count": null,
   "metadata": {},
   "outputs": [],
   "source": [
    "time_data = connection_object.running.get('/nokia-state:state/system/time')\n",
    "print(time_data)"
   ]
  },
  {
   "cell_type": "markdown",
   "metadata": {
    "slideshow": {
     "slide_type": "subslide"
    }
   },
   "source": [
    "### Data structures\n",
    "\n",
    "pySROS provides data in native Python formats making it very easy to manipulate as a developer (or as a network engineer).  The data that is obtained is augmented with all sorts of useful information from the YANG schema to enhance the model-driven management experience.\n",
    "\n",
    "Each element of data is wrapped in a YANG class structure (`Leaf`, `LeafList`, `Action`, `Container`).  These wrapper classes also provide access to further information in the schema and can be used by other pySROS methods.\n",
    "\n",
    "YANG lists are worth a specific mention.  YANG lists are defined as follows in YANG:\n",
    "\n",
    "```\n",
    "module example {\n",
    "    namespace \"urn:example\";\n",
    "    prefix \"ex\";\n",
    "    revision \"2024-06-10\";\n",
    "    container mycontainer {\n",
    "        list mylist {\n",
    "            key list-name;\n",
    "            leaf list-name {\n",
    "                type string;\n",
    "            }\n",
    "        }\n",
    "    }\n",
    "}\n",
    "```\n",
    "\n",
    "Which can be see in a `pyang` tree as:\n",
    "\n",
    "```\n",
    "module: example\n",
    "  +--rw mycontainer\n",
    "     +--rw mylist* [list-name]\n",
    "        +--rw list-name    string\n",
    "```\n",
    "\n",
    "You will see that the key to the list is actually a child of the list itself.  If converted directly to a Python datastructure this would be very difficult to manipulate and so YANG list key values are made the key to Python `dict` data types.\n",
    "\n",
    "Using the data obtained in `time_data` above we can show the wrapper classes at work by simply calling `printTree` on the data to output it in a tree structure."
   ]
  },
  {
   "cell_type": "code",
   "execution_count": null,
   "metadata": {},
   "outputs": [],
   "source": [
    "from pysros.pprint import printTree\n",
    "\n",
    "printTree(time_data)"
   ]
  },
  {
   "cell_type": "markdown",
   "metadata": {
    "slideshow": {
     "slide_type": "subslide"
    }
   },
   "source": [
    "### The `Schema` class\n",
    "\n",
    "The `Schema` class provides additional *read only* information from the compiled YANG schema for the device associated with the `Connection` object.  To see what options are available from the `Schema` class for a specific data element you can call `dir` on it."
   ]
  },
  {
   "cell_type": "code",
   "execution_count": null,
   "metadata": {},
   "outputs": [],
   "source": [
    "dir(time_data.schema)"
   ]
  },
  {
   "cell_type": "markdown",
   "metadata": {},
   "source": [
    "You can see the elements not including the `_` character at the start and end are the YANG schema information available for that element (the top level container for `/nokia-state:state/system/time`).  In this example the available options are `module` and `namespace`."
   ]
  },
  {
   "cell_type": "code",
   "execution_count": null,
   "metadata": {},
   "outputs": [],
   "source": [
    "print(\"YANG module name is\", time_data.schema.module)\n",
    "print(\"YANG module namespace is\", time_data.schema.namespace)"
   ]
  },
  {
   "cell_type": "markdown",
   "metadata": {},
   "source": [
    "Exploring further we can look further into the data at the `zone-type` `Leaf`"
   ]
  },
  {
   "cell_type": "code",
   "execution_count": null,
   "metadata": {},
   "outputs": [],
   "source": [
    "dir(time_data['zone-type'].schema)"
   ]
  },
  {
   "cell_type": "markdown",
   "metadata": {},
   "source": [
    "Here you can see there is more data from the YANG:\n",
    "\n",
    "* `mandatory`: Whether this leaf is mandatory to have in the data\n",
    "* `module`: The name of the YANG module\n",
    "* `namespace`: The namespace of the YANG module\n",
    "* `yang_type`: The root YANG typedef for the element"
   ]
  },
  {
   "cell_type": "code",
   "execution_count": null,
   "metadata": {},
   "outputs": [],
   "source": [
    "print(\"Mandatory:\", time_data['zone-type'].schema.mandatory)\n",
    "print(\"Module name:\", time_data['zone-type'].schema.module)\n",
    "print(\"Module namespace:\", time_data['zone-type'].schema.namespace)\n",
    "print(\"Root YANG typedef:\", time_data['zone-type'].schema.yang_type)"
   ]
  },
  {
   "cell_type": "markdown",
   "metadata": {},
   "source": [
    "## Handling larger datasets"
   ]
  },
  {
   "cell_type": "markdown",
   "metadata": {},
   "source": [
    "### Lists and keys\n",
    "\n",
    "The choice of how to obtain data and handle datasets depends on the specific use case and where the pySROS application is being executed (locally or remotely).  \n",
    "\n",
    "When executing locally, memory should be a consideration but the speed to obtain data is unlikely to be as much of a factor as there is no transmission over a long distance.  Therefore, multiple `get` operations that collect smaller amount of data may be more efficient.\n",
    "\n",
    "When executing remotely, memory is more bountiful but the transmission delay may be a factor.  In this instance, less `get` operations that return larger amounts of data may be more efficient.\n",
    "\n",
    "There is no hard and fast rule for this though.\n",
    "\n",
    "Let's get some data."
   ]
  },
  {
   "cell_type": "code",
   "execution_count": null,
   "metadata": {},
   "outputs": [],
   "source": [
    "big_data_1 = connection_object.running.get('/nokia-state:state/log/log-id')\n",
    "print(big_data_1)"
   ]
  },
  {
   "cell_type": "code",
   "execution_count": null,
   "metadata": {},
   "outputs": [],
   "source": [
    "printTree(big_data_1)"
   ]
  },
  {
   "cell_type": "markdown",
   "metadata": {},
   "source": [
    "This data contains the information that I am looking for.  In this case, I would like to find the list of log IDs on the system.\n",
    "\n",
    "I can query the data obtained to provide the information required:"
   ]
  },
  {
   "cell_type": "code",
   "execution_count": null,
   "metadata": {},
   "outputs": [],
   "source": [
    "print(list(big_data_1.keys()))"
   ]
  },
  {
   "cell_type": "markdown",
   "metadata": {},
   "source": [
    "However, I could obtain just the information I required directly from the node so I wouldn't have to obtain unrequired data which will consume memory.  In this case it is the list of keys of a YANG list so I can use the `get_list_keys` pySROS method."
   ]
  },
  {
   "cell_type": "code",
   "execution_count": null,
   "metadata": {},
   "outputs": [],
   "source": [
    "log_ids = connection_object.running.get_list_keys('/nokia-state:state/log/log-id')\n",
    "print(log_ids)"
   ]
  },
  {
   "cell_type": "markdown",
   "metadata": {},
   "source": [
    "You can see that, even on a relatively small dataset, there is an improvement in performance between selecting a larger dataset and whittling it down vs. obtaining a smaller dataset initially.\n",
    "\n",
    "The improvement is calculated here:"
   ]
  },
  {
   "cell_type": "code",
   "execution_count": null,
   "metadata": {},
   "outputs": [],
   "source": [
    "import time\n",
    "\n",
    "big_set_start_time = time.perf_counter()\n",
    "connection_object.running.get('/nokia-state:state/log/log-id')\n",
    "big_set_duration = time.perf_counter() - big_set_start_time\n",
    "\n",
    "small_set_start_time = time.perf_counter()\n",
    "connection_object.running.get_list_keys('/nokia-state:state/log/log-id')\n",
    "small_set_duration = time.perf_counter() - small_set_start_time\n",
    "\n",
    "print(\"Obtaining list keys rather than the full dataset has a\", \n",
    "      round((big_set_duration / small_set_duration)*100), \n",
    "      \"percent improvement\")\n"
   ]
  },
  {
   "cell_type": "markdown",
   "metadata": {
    "slideshow": {
     "slide_type": "subslide"
    }
   },
   "source": [
    "### Filters\n",
    "\n",
    "We can also use filters to select specific items to match on or obtain from the device to further specify our desired dataset.\n",
    "\n",
    "Let's query the YANG model offline to understand the makeup of this section of the YANG.\n",
    "\n",
    "```\n",
    "host % pyang -f tree -p .:ietf --tree-path=/state/log/log-id nokia-combined/nokia-state.yang\n",
    "module: nokia-state\n",
    "  +--ro state\n",
    "     +--ro log\n",
    "        +--ro log-id* [name]\n",
    "           +--ro name          types-log:log-name\n",
    "           +--ro oper-state?   types-sros:oper-state\n",
    "           +--ro wrapped?      boolean\n",
    "           +--ro next-event?   yang:counter64\n",
    "           +--ro statistics\n",
    "           |  +--ro logged-events?    yang:counter64\n",
    "           |  +--ro dropped-events?   yang:counter64\n",
    "           +--ro event* [sequence-number]\n",
    "              +--ro sequence-number    uint64\n",
    "              +--ro time?              yang:date-and-time\n",
    "              +--ro severity?          types-log:severity-level\n",
    "              +--ro application?       types-log:application-state\n",
    "              +--ro event-id?          uint32\n",
    "              +--ro event-name?        types-sros:named-item\n",
    "              +--ro vrtr-name?         types-log:vrtr-name\n",
    "              +--ro subject?           string\n",
    "              +--ro message?           string\n",
    "```\n",
    "\n",
    "Let's obtain the key to the log-id entry `name` along with the `oper-state` leaf and the `statistics` container."
   ]
  },
  {
   "cell_type": "code",
   "execution_count": null,
   "metadata": {},
   "outputs": [],
   "source": [
    "logs_extended = connection_object.running.get('/nokia-state:state/log/log-id', filter={'name': {}, 'oper-state': {}, 'statistics': {}})\n",
    "print(logs_extended)"
   ]
  },
  {
   "cell_type": "code",
   "execution_count": null,
   "metadata": {},
   "outputs": [],
   "source": [
    "printTree(logs_extended)"
   ]
  },
  {
   "cell_type": "markdown",
   "metadata": {},
   "source": [
    "There are two types of filters:\n",
    "\n",
    "* Selection node\n",
    "* Content match\n",
    "\n",
    "A selection node filter is used in the example above and selects which fields you would like to obtain from the request.\n",
    "\n",
    "A content match filter is used to select only data that exactly matches the specific string requested.\n",
    "\n",
    "These two filter types may be used together.  Using the same example as above, we will extend it to match only entry 100 and we will continue to only retrieve specific fields."
   ]
  },
  {
   "cell_type": "code",
   "execution_count": null,
   "metadata": {},
   "outputs": [],
   "source": [
    "logs_extended = connection_object.running.get('/nokia-state:state/log/log-id', filter={'name': \"100\", 'oper-state': {}, 'statistics': {}})\n",
    "print(logs_extended)"
   ]
  },
  {
   "cell_type": "markdown",
   "metadata": {
    "slideshow": {
     "slide_type": "slide"
    }
   },
   "source": [
    "## Datastores\n",
    "\n",
    "The eagle-eyed among you will have noticed that the word `running` appears in the statement to obtain data and list keys.  This is the NMDA datastore `running`.  The `running` and `candidate` datastores are supported.  The `candidate` datastore is a configuration datastore only and contains no state (YANG `config false`) information.\n",
    "\n",
    "The examples so far have all been about obtaining state information but pySROS can of course be used for configuration as well.  "
   ]
  },
  {
   "cell_type": "markdown",
   "metadata": {
    "slideshow": {
     "slide_type": "slide"
    }
   },
   "source": [
    "## Configuration\n",
    "\n",
    "Configuration of a node is achieved by using the `set` method from the `Datastore` class.  The only datastore supported for making configuration changes is the `candidate` datastore as all interactions with SR OS use the model-driven transactional interfaces.  You can use the `running` datastore to obtain configuration information from the `running` datastore though.\n",
    "\n",
    "In practice this means that a function call to configure the node will look like this:\n",
    "\n",
    "```\n",
    "connection_object.candidate.set(path, value)\n",
    "```\n",
    "\n",
    "`path` in the above call is the **json-instance-path** to the location in the YANG tree that you would like to configure from.  The `value` is the Python data structure containing the contents of your configuration.  This is formatted in the same way as the output seen in the examples above where we obtained state information."
   ]
  },
  {
   "cell_type": "code",
   "execution_count": null,
   "metadata": {},
   "outputs": [],
   "source": [
    "from pysros.wrappers import *\n",
    "\n",
    "payload = {'PYSROS_PRIMER': Container({'name': Leaf('PYSROS_PRIMER'), 'default-action': Container({'action-type': Leaf('reject')})})}\n",
    "connection_object.candidate.set('/nokia-conf:configure/policy-options/policy-statement', payload)"
   ]
  },
  {
   "cell_type": "markdown",
   "metadata": {},
   "source": [
    "pySROS is written with a lazy in, strict out ethos.  That means that whilst, as above, you can provide very detailed and correctly Class-wrapped data, you can also provide much lazier input in the form of a basic Python dictionary (*dict*)."
   ]
  },
  {
   "cell_type": "code",
   "execution_count": null,
   "metadata": {},
   "outputs": [],
   "source": [
    "payload = {'PYSROS_PRIMER': {'default-action': {'action-type': 'reject'}}}\n",
    "connection_object.candidate.set('/nokia-conf:configure/policy-options/policy-statement', payload)"
   ]
  },
  {
   "cell_type": "markdown",
   "metadata": {},
   "source": [
    "As the pySROS library is fully YANG schema aware, this lazy input option is also possible (***although not recommended***) for anywhere a **json-instance-path** is accepted.  For example: `/nokia-conf:configure/policy-options/policy-statement` may be entered as `/configure/policy-options/policy-statement`."
   ]
  },
  {
   "cell_type": "markdown",
   "metadata": {},
   "source": [
    "It is important to understand what actions the `set` method performs with the node:\n",
    "\n",
    "1. Create a private candidate configuration (if one does not already exist for that `Connection` object)\n",
    "2. Modify the private candidate configuration using a merge approach\n",
    "3. Reconcile (update) the private candidate against the baseline (running) configuration\n",
    "4. Validate the proposed configuration\n",
    "5. Commit the proposed configuration\n",
    "\n",
    "This behaviour has the effect that the `set` method immediately configures the node committing it to the running configuration."
   ]
  },
  {
   "cell_type": "markdown",
   "metadata": {},
   "source": [
    "This behaviour may be modified in a number of ways:\n",
    "\n",
    "* The `method` parameter may be provided to the `set` method with the `replace` value.  This will perform any set overwriting any existing configuration (from the `path`)\n",
    "* The `commit` parameter may be provided to the `set` method.  If this is done configuration is placed into the candidate configuration datastore but is not committed (applied) to the running configuration of the node.  This approach is useful if you would like to check the output prior to committing."
   ]
  },
  {
   "cell_type": "markdown",
   "metadata": {},
   "source": [
    "Now we will break apart the `set` method and perform the actions individually.  To do this we will introduce a few more methods: `lock`, `unlock`, `commit`, `compare` and `discard`.\n",
    "\n",
    "First we will lock the device so no other session can interrupt our configuration actions."
   ]
  },
  {
   "cell_type": "code",
   "execution_count": null,
   "metadata": {},
   "outputs": [],
   "source": [
    "connection_object.candidate.lock()"
   ]
  },
  {
   "cell_type": "markdown",
   "metadata": {},
   "source": [
    "Now let's configure the node without committing the configuration."
   ]
  },
  {
   "cell_type": "code",
   "execution_count": null,
   "metadata": {},
   "outputs": [],
   "source": [
    "connection_object.candidate.set('/nokia-conf:configure/log/log-id', {'name': '44', 'description': 'pySROS primer log'}, commit=False)"
   ]
  },
  {
   "cell_type": "markdown",
   "metadata": {},
   "source": [
    "Using the `compare` method we can see what changes we will make to the node should we send the `commit` operation."
   ]
  },
  {
   "cell_type": "code",
   "execution_count": null,
   "metadata": {},
   "outputs": [],
   "source": [
    "print(connection_object.candidate.compare(output_format='md-cli'))"
   ]
  },
  {
   "cell_type": "markdown",
   "metadata": {},
   "source": [
    "Let's assume that we had actually meant to configure log-id `45` not `44`.  We can discard the changes in the candidate configuration datastore using the `discard` method."
   ]
  },
  {
   "cell_type": "code",
   "execution_count": null,
   "metadata": {},
   "outputs": [],
   "source": [
    "connection_object.candidate.discard()\n",
    "if not connection_object.candidate.compare(output_format='md-cli'):\n",
    "    print(\"There are no candidate changes waiting for commit\")"
   ]
  },
  {
   "cell_type": "markdown",
   "metadata": {},
   "source": [
    "Now let's reconfigure the node using the correct `45` log-id."
   ]
  },
  {
   "cell_type": "code",
   "execution_count": null,
   "metadata": {},
   "outputs": [],
   "source": [
    "connection_object.candidate.set('/nokia-conf:configure/log/log-id', {'name': '45', 'description': 'pySROS primer log'}, commit=False)\n",
    "print(connection_object.candidate.compare(output_format='md-cli'))"
   ]
  },
  {
   "cell_type": "markdown",
   "metadata": {},
   "source": [
    "When happy we will commit the configuration to the running configuration datastore and unlock the device."
   ]
  },
  {
   "cell_type": "code",
   "execution_count": null,
   "metadata": {},
   "outputs": [],
   "source": [
    "connection_object.candidate.commit()\n",
    "connection_object.candidate.unlock()"
   ]
  },
  {
   "cell_type": "markdown",
   "metadata": {},
   "source": [
    "And we can now see our new log in the `running` configuration datastore."
   ]
  },
  {
   "cell_type": "code",
   "execution_count": null,
   "metadata": {},
   "outputs": [],
   "source": [
    "connection_object.running.get('/configure/log/log-id[name=\"45\"]')"
   ]
  },
  {
   "cell_type": "markdown",
   "metadata": {
    "slideshow": {
     "slide_type": "subslide"
    }
   },
   "source": [
    "### Handling errors\n",
    "\n",
    "Errors happen!  It's how you deal with them that counts.\n",
    "\n",
    "Python allows developers to create errors by raising Exceptions which can then be handled.  A number of Exceptions are raised in pySROS for a variety of reasons.  Some of these are built in Python Exceptions and some are pySROS specific Exceptions.\n",
    "\n",
    "The pySROS exceptions can be found [here](https://network.developer.nokia.com/static/sr/learn/pysros/latest/pysros.html#module-pysros.exceptions).\n",
    "\n",
    "Python exceptions are handled by enclosing your activity in a `try`, `except` statement.\n",
    "\n",
    "Let's look at an example.\n",
    "\n",
    "The following returns an error."
   ]
  },
  {
   "cell_type": "code",
   "execution_count": null,
   "metadata": {
    "notebookRunGroups": {
     "groupValue": ""
    }
   },
   "outputs": [],
   "source": [
    "connection_object.running.get('/foo/bar')"
   ]
  },
  {
   "cell_type": "markdown",
   "metadata": {},
   "source": [
    "You can see the output is messy.  This is very useful for developers but not as useful for users.  Towards the bottom you can see `InvalidPathError`.  This is the exception being raised in this particular case.  We can handle this neatly as follows:"
   ]
  },
  {
   "cell_type": "code",
   "execution_count": null,
   "metadata": {},
   "outputs": [],
   "source": [
    "from pysros.exceptions import InvalidPathError\n",
    "\n",
    "try:\n",
    "    connection_object.running.get('/foo/bar')\n",
    "except InvalidPathError as invalid_path_error:\n",
    "    print(\"This didn't work because:\", invalid_path_error)"
   ]
  },
  {
   "cell_type": "markdown",
   "metadata": {},
   "source": [
    "Here is another example using the `SrosMgmtError`."
   ]
  },
  {
   "cell_type": "code",
   "execution_count": null,
   "metadata": {},
   "outputs": [],
   "source": [
    "from pysros.exceptions import SrosMgmtError\n",
    "\n",
    "try:\n",
    "    connection_object.candidate.unlock()\n",
    "except SrosMgmtError:\n",
    "    pass\n",
    "\n",
    "for i in range(1,3):\n",
    "    try:\n",
    "        connection_object.candidate.lock()\n",
    "    except SrosMgmtError as sros_mgmt_error:\n",
    "        print(f\"Attempt {i} didn't work because:\", sros_mgmt_error)\n",
    "\n",
    "try:\n",
    "    connection_object.candidate.unlock()\n",
    "except SrosMgmtError:\n",
    "    pass"
   ]
  },
  {
   "cell_type": "markdown",
   "metadata": {
    "slideshow": {
     "slide_type": "slide"
    }
   },
   "source": [
    "## Creating SR OS style outputs\n",
    "\n",
    "pySROS provides some helper methods to allow SR OS \"show\" style outputs to be created.\n",
    "\n",
    "The `Table` object will be used here to create a new \"show\" command that will reformat the output of BGP peers for a more personalized display."
   ]
  },
  {
   "cell_type": "code",
   "execution_count": null,
   "metadata": {},
   "outputs": [],
   "source": [
    "from pysros.pprint import Table\n",
    "\n",
    "def obtain_bgp_data(connection_object):\n",
    "    try:\n",
    "        bgp_config_data = connection_object.running.get('/nokia-conf:configure/router[router-name=\"Base\"]/bgp/neighbor')\n",
    "        bgp_state_data = connection_object.running.get('/nokia-state:state/router[router-name=\"Base\"]/bgp/neighbor')\n",
    "        return bgp_config_data, bgp_state_data\n",
    "    except LookupError as lookup_error:\n",
    "        raise SystemExit(lookup_error)\n",
    "    \n",
    "def build_table(bgp_config_data, bgp_state_data):\n",
    "    summary = \"SReXperts 2024\"\n",
    "    columns = [(30, 'Peer'), (20, 'Group'), (20, 'State'), (30, 'Negotiated capabilities')]\n",
    "    rows = []\n",
    "    for neighbor in bgp_config_data:\n",
    "        group = bgp_config_data[neighbor]['group'].data\n",
    "        session_state = bgp_state_data[neighbor]['statistics']['session-state'].data\n",
    "        try:\n",
    "            negotiated_capability = bgp_state_data[neighbor]['statistics']['negotiated-family'].data\n",
    "        except KeyError:\n",
    "            negotiated_capability = None\n",
    "        rows.append([neighbor, group, session_state, negotiated_capability])\n",
    "    width = sum([col[0] for col in columns])\n",
    "    table = Table(\"Summarized peerings\", columns=columns,\n",
    "                  showCount=\"Number of peers\", summary=summary, width=width)\n",
    "    return table, rows\n",
    "        \n",
    "    \n",
    "bgp_config_data, bgp_state_data = obtain_bgp_data(connection_object)\n",
    "table, rows = build_table(bgp_config_data, bgp_state_data)\n",
    "table.print(rows)"
   ]
  },
  {
   "cell_type": "markdown",
   "metadata": {
    "slideshow": {
     "slide_type": "slide"
    }
   },
   "source": [
    "## Execution of Python code\n",
    "\n",
    "We have been using examples of pySROS applications running remotely so far.  Let's copy this application to the node and move over to the MD-CLI to show `pyexec` from a filename."
   ]
  },
  {
   "cell_type": "code",
   "execution_count": null,
   "metadata": {},
   "outputs": [],
   "source": [
    "import os\n",
    "import paramiko\n",
    "\n",
    "ssh = paramiko.SSHClient() \n",
    "ssh.set_missing_host_key_policy(paramiko.AutoAddPolicy())\n",
    "ssh.connect(creds['hostname'], username=creds['username'], password=creds['password'], port=creds['ssh_port'])\n",
    "sftp = ssh.open_sftp()\n",
    "sftp.put(\"./summarized_peering.py\", \"cf3:/summarized_peering.py\")\n",
    "sftp.close()\n",
    "ssh.close()"
   ]
  },
  {
   "cell_type": "markdown",
   "metadata": {},
   "source": [
    "Now let's configure a `python-script` on SR OS."
   ]
  },
  {
   "cell_type": "code",
   "execution_count": null,
   "metadata": {},
   "outputs": [],
   "source": [
    "connection_object.candidate.set('/nokia-conf:configure/python/python-script', {'srx': {'urls': ['cf3:/summarized_peering.py'],\n",
    "                                                                                       'version': 'python3',\n",
    "                                                                                       'admin-state': 'enable'}})\n"
   ]
  },
  {
   "cell_type": "markdown",
   "metadata": {},
   "source": [
    "And we can see on the MD-CLI that we can now call `pyexec` directly using the configured `python-script` named `srx`."
   ]
  },
  {
   "cell_type": "markdown",
   "metadata": {},
   "source": [
    "Now we will use the MD-CLI command-alias feature to create our own show command embedded into the MD-CLI system.  We will create an alias called `srexperts_summary` that will appear in the `/show router bgp` section of the tree (only) that will call our configured pySROS application.\n"
   ]
  },
  {
   "cell_type": "code",
   "execution_count": null,
   "metadata": {},
   "outputs": [],
   "source": [
    "payload = {'srexperts_summary': {'admin-state': 'enable',\n",
    "                                 'description': 'Output summarized BGP sessions for SReXperts 2024',\n",
    "                                 'python-script': 'srx',\n",
    "                                 'mount-point': {'/show router bgp': {'path': '/show router bgp'}}}}\n",
    "connection_object.candidate.set('/nokia-conf:configure/system/management-interface/cli/md-cli/environment/command-alias/alias', payload)"
   ]
  },
  {
   "cell_type": "markdown",
   "metadata": {},
   "source": [
    "On the MD-CLI you will now see the command appear (after you log in again as command aliases are part of the user environment) in the `/show router bgp` tree with autocompletion and it's own context-sensitive help text (derived from the `description` field)."
   ]
  },
  {
   "cell_type": "markdown",
   "metadata": {
    "slideshow": {
     "slide_type": "slide"
    }
   },
   "source": [
    "## Operations\n",
    "\n",
    "We've talked about configuration and state information now, but pySROS can also instruct your SR OS node to perform operations using two methods:\n",
    "\n",
    "1. YANG modelled `action` statements\n",
    "2. MD-CLI commands\n",
    "\n",
    "Whilst both are possible, they are in a numbered list above in order of usage recommendation.  YANG modelled `action` statements provide modelled data on input and output, whereas MD-CLI commands provide unstructured data and therefore (as we're talking about Python programming) should only be used where no action exists.\n",
    "\n",
    "If you have a YANG modelled `action` available, always use that!\n",
    "\n",
    "We will first use an MD-CLI command to dump the filter resource utilization on the iom.  To do this use the `cli` method on a `Connection` object.\n"
   ]
  },
  {
   "cell_type": "code",
   "execution_count": null,
   "metadata": {},
   "outputs": [],
   "source": [
    "print(connection_object.cli('tools dump filter resources iom'))"
   ]
  },
  {
   "cell_type": "markdown",
   "metadata": {},
   "source": [
    "Now we will use a YANG modelled `action` to validate our current license.\n",
    "\n",
    "Let's look at the YANG model to determine the structure of the input for the `admin` function.\n",
    "\n",
    "```\n",
    "host % pyang -f tree -p .:ietf:nokia-combined --tree-path=/admin/system/license/validate nokia-oper-admin.yang\n",
    "module: nokia-oper-admin\n",
    "  +--ro admin\n",
    "     +--ro system\n",
    "        +--ro license\n",
    "           +---x validate\n",
    "              +---w input\n",
    "              |  +---w file-url?   string\n",
    "              +--ro output\n",
    "                 +--ro operation-id?      types-operation:operation-id\n",
    "                 +--ro start-time?        types-operation:operation-timestamp\n",
    "                 +--ro results-path?      types-operation:operation-path\n",
    "                 +--ro results\n",
    "                 |  +--ro active-sros-version?                   types-sros:description\n",
    "                 |  +--ro license-file?                          types-sros:url\n",
    "                 |  +--ro license-name?                          types-sros:description\n",
    "                 |  +--ro license-uuid?                          types-sros:description\n",
    "                 |  +--ro license-secondary-uuid?                types-sros:description\n",
    "                 |  +--ro machine-uuid?                          types-sros:description\n",
    "                 |  +--ro license-description?                   types-sros:description\n",
    "                 |  +--ro license-product?                       types-sros:description\n",
    "                 |  +--ro license-applicable-versions?           types-sros:description\n",
    "                 |  +--ro license-issue-time?                    yang:date-and-time\n",
    "                 |  +--ro license-start-time?                    yang:date-and-time\n",
    "                 |  +--ro license-end-time?                      yang:date-and-time\n",
    "                 |  +--ro license-validation-status?             enumeration\n",
    "                 |  +--ro validation-error-additional-details?   types-sros:very-long-description-or-empty\n",
    "                 +--ro status?            types-operation:operation-status\n",
    "                 +--ro error-message*     types-operation:operation-message\n",
    "                 +--ro warning-message*   types-operation:operation-message\n",
    "                 +--ro info-message*      types-operation:operation-message\n",
    "                 +--ro end-time?          types-operation:operation-timestamp\n",
    "```\n",
    "\n",
    "Here we can see an `action` indicated by the `x` of `/nokia-oper-admin:admin/system/license/validate` and we can use the `action` method to execute this."
   ]
  },
  {
   "cell_type": "code",
   "execution_count": null,
   "metadata": {},
   "outputs": [],
   "source": [
    "license = connection_object.action('/admin/system/license/validate')\n",
    "print(license)\n",
    "printTree(license)"
   ]
  },
  {
   "cell_type": "markdown",
   "metadata": {},
   "source": [
    "## Conclusion\n",
    "\n",
    "This primer has given you a working introduction to the pySROS libraries from Nokia that present a clean Python API to Nokia nodes.  \n",
    "\n",
    "pySROS has many more functions and features not explained here. For more information please refer to the documentation available on the [Nokia developer portal](https://network.developer.nokia.com) and the examples directory of the pySROS repository on GitHub:\n",
    "\n",
    "* [pySROS documentation](https://network.developer.nokia.com/static/sr/learn/pysros/latest)\n",
    "* [pySROS on GitHub](http://github.com/nokia/pysros)\n",
    "\n",
    "If you have any further questions and would like more examples, assistance, presentations or tutorials please reach out to a Nokia representative.\n",
    "\n",
    "All that remains now is to run the cells below to cleanup the devices you configured during this primer."
   ]
  },
  {
   "cell_type": "markdown",
   "metadata": {
    "slideshow": {
     "slide_type": "slide"
    }
   },
   "source": [
    "## Cleanup\n",
    "\n",
    "This section simply cleans up configuration added to your node during this primer."
   ]
  },
  {
   "cell_type": "code",
   "execution_count": null,
   "metadata": {},
   "outputs": [],
   "source": [
    "def remove_files():\n",
    "    import os\n",
    "    import paramiko\n",
    "    \n",
    "    ssh = paramiko.SSHClient() \n",
    "    ssh.set_missing_host_key_policy(paramiko.AutoAddPolicy())\n",
    "    ssh.connect(creds['hostname'], username=creds['username'], password=creds['password'], port=creds['ssh_port'])\n",
    "    sftp = ssh.open_sftp()\n",
    "    try:\n",
    "        sftp.remove(\"cf3:/summarized_peering.py\")\n",
    "    except FileNotFoundError as file_not_found:\n",
    "        print(\"File not present, proceeding with cleanup:\", file_not_found)\n",
    "        pass\n",
    "    sftp.close()\n",
    "    ssh.close()\n",
    "\n",
    "def unconfigure():\n",
    "    paths = ['/nokia-conf:configure/log/log-id[name=\"45\"]', '/nokia-conf:configure/policy-options/policy-statement[name=\"PYSROS_PRIMER\"]',\n",
    "             '/nokia-conf:configure/system/management-interface/cli/md-cli/environment/command-alias/alias[alias-name=\"srexperts_summary\"]',\n",
    "             '/nokia-conf:configure/python/python-script[name=\"srx\"]']\n",
    "    for path in paths:\n",
    "        try:\n",
    "            connection_object.candidate.delete(path)\n",
    "            print(path, \"deleted\")\n",
    "        except Exception as error:\n",
    "            print(path, \"not deleted:\", error)\n",
    "            pass\n",
    "    \n",
    "def cleanup():\n",
    "    remove_files()\n",
    "    unconfigure()\n",
    "\n",
    "cleanup()"
   ]
  }
 ],
 "metadata": {
  "kernelspec": {
   "display_name": "Python 3 (ipykernel)",
   "language": "python",
   "name": "python3"
  },
  "language_info": {
   "codemirror_mode": {
    "name": "ipython",
    "version": 3
   },
   "file_extension": ".py",
   "mimetype": "text/x-python",
   "name": "python",
   "nbconvert_exporter": "python",
   "pygments_lexer": "ipython3",
   "version": "3.12.2"
  }
 },
 "nbformat": 4,
 "nbformat_minor": 4
}
